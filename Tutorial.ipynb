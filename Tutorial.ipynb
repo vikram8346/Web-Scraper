{
 "cells": [
  {
   "cell_type": "markdown",
   "metadata": {},
   "source": [
    "# Web Scraper Tutorial"
   ]
  },
  {
   "cell_type": "code",
   "execution_count": 1,
   "metadata": {},
   "outputs": [],
   "source": [
    "from bs4 import BeautifulSoup"
   ]
  },
  {
   "attachments": {},
   "cell_type": "markdown",
   "metadata": {},
   "source": [
    "BeautifulSoup is a library for parsing HTML and XML. It uses its parser to represent the document as a nested data structure and facilitate us to extract information from the HTML page. BeautifulSoup tolerates highly flawed HTML and still lets you easily extract the data you need."
   ]
  },
  {
   "cell_type": "code",
   "execution_count": 2,
   "metadata": {},
   "outputs": [],
   "source": [
    "import urllib.request, urllib.parse, urllib.error"
   ]
  },
  {
   "attachments": {},
   "cell_type": "markdown",
   "metadata": {},
   "source": [
    "Since HTTP is so common, we have a  library that does all the work for us and  makes web pages look like a file."
   ]
  },
  {
   "cell_type": "code",
   "execution_count": 3,
   "metadata": {},
   "outputs": [],
   "source": [
    "import ssl\n",
    "import csv"
   ]
  },
  {
   "cell_type": "markdown",
   "metadata": {},
   "source": [
    "This module provides access to Transport Layer Security (often known as “Secure Sockets Layer”) encryption and peer authentication facilities for network sockets, both client-side and server-side.\n",
    "The csv module implements classes to read and write tabular data in CSV format."
   ]
  },
  {
   "cell_type": "markdown",
   "metadata": {},
   "source": [
    "__INSTRUCTIONS:__\n",
    "\n",
    "__1. The program may run slowly, so please clear the kernel before running the program.__\n",
    "\n",
    "__2. The 'stocks.csv' file takes time to load, so please wait for few seconds after the program executes and gives the output. If still there is no data in the file, try closing, refresh and then open the file again.__"
   ]
  },
  {
   "cell_type": "markdown",
   "metadata": {},
   "source": [
    "The below function gets the details of the stock based on the ticker symbol entered by the user. Here I have extracted 4 values of the each stock i.e. OPEN price, PREV CLOSE price, VOLUME, MARKET CAP"
   ]
  },
  {
   "cell_type": "code",
   "execution_count": null,
   "metadata": {},
   "outputs": [],
   "source": [
    "#function for getting the stock data from Yahoo Finance or CNN Money’s Market Movers website.\n",
    "\n",
    "def stock_data(s_inp):   \n",
    "    ctx= ssl.create_default_context()\n",
    "    ctx.check_hostname = False\n",
    "    ctx.verify_mode = ssl.CERT_NONE\n",
    "    s_url = \"https://finance.yahoo.com/quote/{0}?p={0}&.tsrc=fin-srch-v1\".format(usr_inp) #URL of website containing the deatils of the users input stock\n",
    "    html = urllib.request.urlopen(s_url, context=ctx).read() #loading the html\n",
    "    soup = BeautifulSoup(html, 'lxml') #using BeautifulSoup on the current html with lxml parser\n",
    "    tag = soup.findAll('div', attrs={'id':\"quote-summary\"}) #finding the particular division with stock details\n",
    "    table = (tag[0].findAll(\"table\")) #table containing stock details\n",
    "    data = [] #list for storing all the values\n",
    "    for rows in table: \n",
    "        for value in rows.findAll(\"td\"): \n",
    "            if value.text in [\"Previous Close\", \"Open\", \"Volume\", \"Market Cap\"]: \n",
    "                data.append(value.find_next('td').text) \n",
    "            else: \n",
    "                continue\n",
    "    return data #return the data list containing the required stock details"
   ]
  },
  {
   "cell_type": "markdown",
   "metadata": {},
   "source": [
    "The below script collects the list of most actives, gainers and losers from the stock website entered by the user. It takes the ticker symbols and names of these companies (and categories) and build a csv file (called stocks.csv) with data about each stock."
   ]
  },
  {
   "cell_type": "code",
   "execution_count": 1,
   "metadata": {
    "scrolled": true
   },
   "outputs": [
    {
     "name": "stdout",
     "output_type": "stream",
     "text": [
      "This is a program to scrape data from the https://money.cnn.com/data/hotstocks/ for a class project.\n",
      "Which stock are you interested in:\n",
      "\n",
      "Most Actives:\n",
      "F Ford Motor Co\n",
      "GE General Electric Co\n",
      "NCLH Norwegian Cruise Line Holdings Ltd\n",
      "WFC Wells Fargo & Co\n",
      "BAC Bank of America Corp\n",
      "DAL Delta Air Lines Inc\n",
      "CCL Carnival Corp\n",
      "MRO Marathon Oil Corp\n",
      "OXY Occidental Petroleum Corp\n",
      "DIS Walt Disney Co\n",
      "\n",
      "\n",
      "Gainers:\n",
      "CARR Carrier Global Corp\n",
      "VTR Ventas Inc\n",
      "LW Lamb Weston Holdings Inc\n",
      "LEG Leggett & Platt Inc\n",
      "HFC HollyFrontier Corp\n",
      "LB L Brands Inc\n",
      "GPS Gap Inc\n",
      "TDG TransDigm Group Inc\n",
      "HP Helmerich and Payne Inc\n",
      "KIM Kimco Realty Corp\n",
      "\n",
      "\n",
      "Losers:\n",
      "MSI Motorola Solutions Inc\n",
      "FLT Fleetcor Technologies Inc\n",
      "DLR Digital Realty Trust Inc\n",
      "FLS Flowserve Corp\n",
      "BLL Ball Corp\n",
      "MTD Mettler-Toledo International Inc\n",
      "TMO Thermo Fisher Scientific Inc\n",
      "CTVA Corteva Inc\n",
      "MLM Martin Marietta Materials Inc\n",
      "DHR Danaher Corp\n",
      "\n",
      "\n",
      "User Inputs:WFC\n",
      "The data for WFC Wells Fargo & Co is the following:\n",
      "Open: 25.64\n",
      "PREV CLOSE: 25.23\n",
      "VOLUME: 51,470,082\n",
      "MARKET CAP: 104.263B\n"
     ]
    }
   ],
   "source": [
    "ctx= ssl.create_default_context()\n",
    "ctx.check_hostname = False\n",
    "ctx.verify_mode = ssl.CERT_NONE\n",
    "print(\"This is a program to scrape data from the https://money.cnn.com/data/hotstocks/ for a class project.\")\n",
    "print(\"Which stock are you interested in:\\n\")\n",
    "url = \"https://money.cnn.com/data/hotstocks/\"  #URL containing all the stocks \n",
    "html = urllib.request.urlopen(url, context=ctx).read() #loading html from the above URL\n",
    "soup = BeautifulSoup(html, \"lxml\") #using BeautifulSoup on the current html with lxml parser\n",
    "tag=soup.findAll('table', attrs={'class':\"wsod_dataTable wsod_dataTableBigAlt\"}) #searching for the particular table which contains the data\n",
    "Header = [\"Most Actives\", \"Gainers\",\"Losers\"] #Stock categories list\n",
    "stocks = [] #list for storing all the stocks\n",
    "csvl=[]\n",
    "for head, rows in zip(Header, tag):\n",
    "        print(head+\":\") #Printing the category name\n",
    "        for line in rows.findAll('td'): #Looping thrrough all the stocks in the table\n",
    "            if line.a!=None: #Condition to check that the stock is not empty, if true\n",
    "                ticker = line.a.text #Get the Ticker Symnol of the stock\n",
    "                fullname = line.span.text #get the full name of the stock given in span text\n",
    "                print(ticker,fullname) #print the ticker and fullname of stock\n",
    "                stocks.extend([head,ticker,fullname]) #store each stock in the stock list\n",
    "                csvl.append([head,ticker,fullname])  #this list will be used for storing details in the csv file\n",
    "        print('\\n')   \n",
    "\n",
    "while True: #While loop which will only end once the user inputs the correct name of stock in the list\n",
    "    usr_inp=input(\"User Inputs:\")    #Input the stock name from the user\n",
    "    if usr_inp not in stocks:       #if the input is not in the stock list, then\n",
    "        print(\"Wrong Input, the stock is not in the list!\") \n",
    "        continue\n",
    "    else: \n",
    "        print(\"The data for\",usr_inp,stocks[stocks.index(usr_inp)+1],\"is the following:\")\n",
    "        result=stock_data(usr_inp)     #passing the user input to the stock_data function\n",
    "        print(\"Open:\",result[1])       #opening value of the stock \n",
    "        print(\"PREV CLOSE:\",result[0]) #previous close value of the stock\n",
    "        print(\"VOLUME:\",result[2])     #volume of the stock\n",
    "        print(\"MARKET CAP:\",result[3])   #printing the market cap of the stock\n",
    "        with open('stocks.csv', 'w') as file:   #open the 'stocks.csv file'\n",
    "            writer = csv.writer(file, delimiter=',') #function for writing ino the file\n",
    "            writer.writerow([\"Category\", \"Symbol\", \"Name\", \"Previous Close\", \"Open\", \"Volume\", \"Market Cap\"]) #adding a row of all the column headings \n",
    "            for s_inp in csvl:  #for each stock in the list, add its details to the csv file\n",
    "                writer.writerow(s_inp+stock_data(s_inp[1]))\n",
    "        break"
   ]
  },
  {
   "cell_type": "markdown",
   "metadata": {},
   "source": [
    "__EXECUTION:__\n",
    "\n",
    "User Inputs:GPS\n",
    "\n",
    "The data for GPS Gap Inc is the following:\n",
    "\n",
    "Open: 7.67\n",
    "\n",
    "PREV CLOSE: 7.42\n",
    "\n",
    "VOLUME: 10,877,042\n",
    "\n",
    "MARKET CAP: 3.018B"
   ]
  }
 ],
 "metadata": {
  "kernelspec": {
   "display_name": "Python 3",
   "language": "python",
   "name": "python3"
  },
  "language_info": {
   "codemirror_mode": {
    "name": "ipython",
    "version": 3
   },
   "file_extension": ".py",
   "mimetype": "text/x-python",
   "name": "python",
   "nbconvert_exporter": "python",
   "pygments_lexer": "ipython3",
   "version": "3.7.4"
  }
 },
 "nbformat": 4,
 "nbformat_minor": 2
}
